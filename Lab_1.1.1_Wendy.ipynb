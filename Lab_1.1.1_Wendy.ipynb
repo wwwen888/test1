{
 "cells": [
  {
   "cell_type": "markdown",
   "metadata": {},
   "source": [
    "# Lab_1.1.1"
   ]
  },
  {
   "cell_type": "markdown",
   "metadata": {},
   "source": [
    "# 1.\tCompute the scalar product of two n-dimensional vectors."
   ]
  },
  {
   "cell_type": "code",
   "execution_count": 1,
   "metadata": {},
   "outputs": [],
   "source": [
    "def ProductTwoVectors (v1,v2):\n",
    "    sum=0\n",
    "    element = 0\n",
    "    for element in range(len(v1)):\n",
    "        sum=sum+(v1[element]*v2[element])\n",
    "    return(sum)\n",
    "            \n",
    "                      \n",
    "    "
   ]
  },
  {
   "cell_type": "code",
   "execution_count": 4,
   "metadata": {},
   "outputs": [
    {
     "data": {
      "text/plain": [
       "32"
      ]
     },
     "execution_count": 4,
     "metadata": {},
     "output_type": "execute_result"
    }
   ],
   "source": [
    "v1=[1,2,3]\n",
    "v2=[4,5,6]\n",
    "ProductTwoVectors(v1,v2)"
   ]
  },
  {
   "cell_type": "markdown",
   "metadata": {},
   "source": [
    "<br>Pseudocode: Define two vectors as x with n dimensions and y with n dimensions.\n",
    "<br> check that the length of both vectors are the same or else return error.\n",
    "<br>Iterate through all the elements for each vector: \n",
    "<br>    For element from 1 to nth dimension, pass elements for both x and y into the numpy.dot function. Print output Concrete example below.\n"
   ]
  },
  {
   "cell_type": "code",
   "execution_count": 1,
   "metadata": {},
   "outputs": [],
   "source": [
    "import numpy as np"
   ]
  },
  {
   "cell_type": "code",
   "execution_count": 5,
   "metadata": {},
   "outputs": [
    {
     "name": "stdout",
     "output_type": "stream",
     "text": [
      "32\n"
     ]
    }
   ],
   "source": [
    "x=np.array([1,2,3])\n",
    "y=np.array([4,5,6])\n",
    "print(np.dot(x,y))"
   ]
  },
  {
   "cell_type": "markdown",
   "metadata": {},
   "source": [
    "# 2.\tCompute the cross product of two 3D vectors."
   ]
  },
  {
   "cell_type": "code",
   "execution_count": 6,
   "metadata": {},
   "outputs": [
    {
     "name": "stdout",
     "output_type": "stream",
     "text": [
      "[-3  6 -3]\n"
     ]
    }
   ],
   "source": [
    "x=np.array([1,2,3])\n",
    "y=np.array([4,5,6])\n",
    "print(np.cross(x,y))"
   ]
  },
  {
   "cell_type": "markdown",
   "metadata": {},
   "source": [
    "# 3.\tCompute the Hademard product of two vectors."
   ]
  },
  {
   "cell_type": "markdown",
   "metadata": {},
   "source": [
    "Hadamard Product is elementwise multiplication and it outputs a vector."
   ]
  },
  {
   "cell_type": "code",
   "execution_count": 7,
   "metadata": {},
   "outputs": [
    {
     "name": "stdout",
     "output_type": "stream",
     "text": [
      "[ 4 10 18]\n"
     ]
    }
   ],
   "source": [
    "x=np.array([1,2,3])\n",
    "y=np.array([4,5,6])\n",
    "print(x*y)"
   ]
  },
  {
   "cell_type": "markdown",
   "metadata": {},
   "source": [
    "# 4.\tCompute the sum of two matrices.\n"
   ]
  },
  {
   "cell_type": "code",
   "execution_count": 13,
   "metadata": {},
   "outputs": [
    {
     "name": "stdout",
     "output_type": "stream",
     "text": [
      "[[ 8 10 12]\n",
      " [14 16 18]]\n"
     ]
    }
   ],
   "source": [
    "\n",
    "m1 = np.array([[1,2,3], [4,5,6]])\n",
    "m2 = np.array([[7,8,9],[10,11,12]])\n",
    "print(m1+m2)"
   ]
  },
  {
   "cell_type": "markdown",
   "metadata": {},
   "source": [
    "# 5.\tCompute the product of two matrices."
   ]
  },
  {
   "cell_type": "code",
   "execution_count": 19,
   "metadata": {},
   "outputs": [
    {
     "name": "stdout",
     "output_type": "stream",
     "text": [
      "[[ 930  972 1014]\n",
      " [1128 1179 1230]]\n"
     ]
    }
   ],
   "source": [
    "import numpy as np\n",
    "m3=np.array([[13,14,15],[16,17,18]])\n",
    "m4=np.array([[19,20,21],[22,23,24],[25,26,27]])\n",
    "print(np.dot(m3,m4))"
   ]
  },
  {
   "cell_type": "markdown",
   "metadata": {},
   "source": [
    "# 6.\tCompute the determinant of an n x n matrix.\n",
    "\n",
    "\n"
   ]
  },
  {
   "cell_type": "markdown",
   "metadata": {},
   "source": [
    "Background Information:\n",
    "Determinants for larger matrices can be recursively obtained by the Laplace Expansion. The fomula for Laplace Expansion is \n",
    "Laplace's formula expresses the determinant of a matrix in terms of its minors. The minor Mi,j is defined to be the determinant of the (n−1) × (n−1)-matrix that results from matrix A by removing the i-th row and the j-th column. \n",
    "\n",
    "Explanation of terms in Laplace Expansion: \n",
    "1) Summation from j=1 to n: This means the sum from j=1 to n, in this case from the first column to the last one. \n",
    "2) (−1)**1+j: This ensures that alternating entries will be added and subtracted. \n",
    "3) a1j: Refers to the element the matrix A at position 1,j. \n",
    "4) M1j: Refers to the minor of matrix A after removing row 1 and column j \n",
    "In summary, we are taking the sum from j=1 to n, of -1 to the power (1+j) times the element as at index (1,j) in the original matrix times the minor of the matrix after removing row 1 and column j. \n",
    "Pseudocode:\n",
    "\n",
    "Suppose that we have an nxn matrix A, with number of columns j. \n",
    "If the number of columns is 2, compute the determinant using ad-bc and return the result. \n",
    "Else: Iterate through all of the columns. \n",
    "Calculate the multiplier by taking -1 to the power (1+j) times the element at A[1][j] \n",
    "Delete row 1 and column j from A, and create a new matrix X. \n",
    "Find the determinant of X through recursion (start again at the top with A=X). \n",
    "Multiply the determinant by the multiplier. \n",
    "Sum all of the values and return result.\n",
    "\n",
    "\n",
    "Source: http://www.vikparuchuri.com/blog/find-the-determinant-of-a-matrix/\n",
    "\n",
    "\n"
   ]
  },
  {
   "cell_type": "markdown",
   "metadata": {},
   "source": [
    "# 7.    Compute the inverse of an n x n matrix."
   ]
  },
  {
   "cell_type": "code",
   "execution_count": null,
   "metadata": {},
   "outputs": [],
   "source": [
    "Compute the inverse of an n x n matrix.\n",
    "Background Information:\n",
    "Why do we invert matrices? We need to invert matrices because we cannot divide matrices. Matrix \"division\" is actually just multiplying a matrix by its inverse, to get the identity matrix. Say we have the equation 1=YX, with Y and X being matrices. If we want to solve for X, we need to divide by Y. Instead, we will have to multiply by the inverse of Y, so that we get Y**−1=X. \n",
    "Use the Gauss-Jordan Elimination method.\n",
    "\n",
    "Steps: \n",
    "\n",
    "1) To invert a matrix, start by adding an identity matrix to the right of the matrix. \n",
    "2) The basic row operations on the combined matrix are: \n",
    "We can swap any two rows. \n",
    "We can multiply any row by a number than isn’t zero. \n",
    "We can add a row times a number to another row. \n",
    "3) The goal is to get the matrix on the left in row echelon form: \n",
    "All rows with at least one nonzero element are above any rows of all zeroes. \n",
    "The first nonzero number from the left of a nonzero row is always to the right of the first nonzero number of the row above it. \n",
    "All entries in a column below a leading entry are zeroes. \n",
    "The identity matrix would be an example of a matrix in row echelon form. \n",
    "We should perform our row operations on both the left hand and right hand matrices. Once we are done converting our left hand matrix into row echelon form, our right hand matrix will be the inverse of the original matrix. \n",
    "Pseudocode:\n",
    "\n",
    "\n",
    "Start with i=1, j=1, and matrix Z. \n",
    "Concatenate Z with its identity matrix, make matrix X. \n",
    "Is everything in the column j at and below X[i][j] zero? If yes, increment j and restart from the top. \n",
    "If j equals the number of columns in Z, we are done. \n",
    "k is the row index of the first non-zero column entry. \n",
    "If k!=i, swap row k and row i, so that the highest value is reduced first. \n",
    "Divide row i by X[i][j], in order to make X[i][j]=1. \n",
    "Iterate through all the non-i rows, and subtract their j-column value times the i-row from them. This will ensure that all values in column j that are not in row i will be zero. This is a requirement of row echelon form. \n",
    "If i equals the number of rows in X or j equals the number of columns in the original matrix Z (not counting the identity), we are done. \n",
    "Otherwise, increment i and j and start from the top.\n",
    "This algorithm will loop through each column, and convert it to row-echelon form. At the end, the right side of the matrix X will be the solution, the inverse.\n",
    "\n",
    "\n",
    "Source: http://www.vikparuchuri.com/blog/inverting-your-very-own-matrix/\n"
   ]
  }
 ],
 "metadata": {
  "kernelspec": {
   "display_name": "Python 3",
   "language": "python",
   "name": "python3"
  },
  "language_info": {
   "codemirror_mode": {
    "name": "ipython",
    "version": 3
   },
   "file_extension": ".py",
   "mimetype": "text/x-python",
   "name": "python",
   "nbconvert_exporter": "python",
   "pygments_lexer": "ipython3",
   "version": "3.7.0"
  }
 },
 "nbformat": 4,
 "nbformat_minor": 2
}
